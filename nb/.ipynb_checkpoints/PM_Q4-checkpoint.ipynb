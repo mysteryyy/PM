{
 "cells": [
  {
   "cell_type": "markdown",
   "metadata": {},
   "source": [
    "# Black Litterman"
   ]
  },
  {
   "cell_type": "markdown",
   "metadata": {},
   "source": [
    "## Q4"
   ]
  },
  {
   "cell_type": "markdown",
   "metadata": {},
   "source": [
    "## a.  Computing mean and covariance matrix"
   ]
  },
  {
   "cell_type": "code",
   "execution_count": 13,
   "metadata": {
    "scrolled": true
   },
   "outputs": [],
   "source": [
    "import numpy as np\n",
    "mu=np.matrix([.1448,.1329,.0237,.0259])\n",
    "cov = np.matrix([[.0362,-0.018,-.0010,.0005],\n",
    "                 [-0.018,.0985,.0018,-.0009],\n",
    "                 [-.0010,.0018,.2061,-.0006],\n",
    "                 [.0005,-.0009,-.0006,.0828]])\n",
    "w=np.matrix([162.8,1.55,70.91,13.73]).T\n",
    "P = np.matrix([[1,-1,0,0],\n",
    "               [0,0,-1,1],\n",
    "               [1,0,0,0],\n",
    "               [0,0,1,0]])\n",
    "Q = np.matrix([[.01],\n",
    "              [.01],\n",
    "              [.1],\n",
    "              [.015]])\n",
    "w=w/w.sum()\n",
    "lamb=(mu*w)/float(w.T*cov*w)**.5 # Calculating coefficient of risk aversion\n",
    "omega = np.matrix([[.0009,0,0,0],\n",
    "                   [0,.0004,0,0],\n",
    "                   [0,0,.0003,0],\n",
    "                   [0,0,0,.0002]])\n",
    "tau=.01\n",
    "lamb = float(lamb[0][0])\n"
   ]
  },
  {
   "cell_type": "code",
   "execution_count": 14,
   "metadata": {},
   "outputs": [],
   "source": [
    "mu_bl=(((tau*cov)**-1 + P.T*omega*P)**-1)*((lamb/tau)*w\n",
    "+ P.T*(omega**-1)*Q)\n",
    "cov_bl = cov.T + ((tau*cov.T)**-1 + \n",
    "                P.T*(omega**-1)*P)**-1"
   ]
  },
  {
   "cell_type": "code",
   "execution_count": 15,
   "metadata": {},
   "outputs": [
    {
     "data": {
      "text/plain": [
       "matrix([[ 0.13982852],\n",
       "        [-0.07847154],\n",
       "        [ 0.13290897],\n",
       "        [ 0.02495787]])"
      ]
     },
     "execution_count": 15,
     "metadata": {},
     "output_type": "execute_result"
    }
   ],
   "source": [
    "mu_bl"
   ]
  },
  {
   "cell_type": "code",
   "execution_count": 16,
   "metadata": {},
   "outputs": [
    {
     "data": {
      "text/plain": [
       "matrix([[ 0.03633616, -0.01796602, -0.00100003,  0.00050035],\n",
       "        [-0.01796602,  0.09895732,  0.00180007, -0.00090091],\n",
       "        [-0.00100003,  0.00180007,  0.20625862, -0.0004932 ],\n",
       "        [ 0.00050035, -0.00090091, -0.0004932 ,  0.08314161]])"
      ]
     },
     "execution_count": 16,
     "metadata": {},
     "output_type": "execute_result"
    }
   ],
   "source": [
    "cov_bl"
   ]
  },
  {
   "cell_type": "code",
   "execution_count": 17,
   "metadata": {},
   "outputs": [
    {
     "data": {
      "text/plain": [
       "matrix([[ 0.0362, -0.018 , -0.001 ,  0.0005],\n",
       "        [-0.018 ,  0.0985,  0.0018, -0.0009],\n",
       "        [-0.001 ,  0.0018,  0.2061, -0.0006],\n",
       "        [ 0.0005, -0.0009, -0.0006,  0.0828]])"
      ]
     },
     "execution_count": 17,
     "metadata": {},
     "output_type": "execute_result"
    }
   ],
   "source": [
    "cov"
   ]
  },
  {
   "cell_type": "markdown",
   "metadata": {},
   "source": [
    "As we can see there seems to be some numerical precision error"
   ]
  },
  {
   "cell_type": "markdown",
   "metadata": {},
   "source": [
    "## b. Computing Weights"
   ]
  },
  {
   "cell_type": "code",
   "execution_count": 18,
   "metadata": {
    "scrolled": true
   },
   "outputs": [
    {
     "data": {
      "text/plain": [
       "OrderedDict([(0, 0.8204535372460391),\n",
       "             (1, -0.0239685385606387),\n",
       "             (2, 0.1431801042812378),\n",
       "             (3, 0.0603348970333617)])"
      ]
     },
     "execution_count": 18,
     "metadata": {},
     "output_type": "execute_result"
    }
   ],
   "source": [
    "from pypfopt import EfficientFrontier\n",
    "import numpy as np\n",
    "ef = EfficientFrontier(np.array(mu_bl),np.array(cov_bl),\n",
    "                       weight_bounds=(-1,1))\n",
    "ef.max_sharpe(risk_free_rate=0)\n"
   ]
  },
  {
   "cell_type": "code",
   "execution_count": 19,
   "metadata": {},
   "outputs": [
    {
     "name": "stdout",
     "output_type": "stream",
     "text": [
      "  Assets   Weights\n",
      "0    ACN  0.820454\n",
      "1    AIN -0.023969\n",
      "2    ANF  0.143180\n",
      "3  DGICA  0.060335\n"
     ]
    }
   ],
   "source": [
    "allocation = pd.DataFrame()\n",
    "allocation[\"Assets\"] = [\"ACN\",\"AIN\",\"ANF\",\"DGICA\"]\n",
    "allocation[\"Weights\"] = pd.Series(ef.weights)\n",
    "print(allocation)"
   ]
  },
  {
   "cell_type": "markdown",
   "metadata": {},
   "source": [
    "## c. Computing weights long-only"
   ]
  },
  {
   "cell_type": "code",
   "execution_count": 20,
   "metadata": {},
   "outputs": [
    {
     "name": "stdout",
     "output_type": "stream",
     "text": [
      "  Assets   Weights\n",
      "0    ACN  0.803493\n",
      "1    AIN  0.000000\n",
      "2    ANF  0.138079\n",
      "3  DGICA  0.058428\n"
     ]
    }
   ],
   "source": [
    "from pypfopt import EfficientFrontier\n",
    "ef = EfficientFrontier(np.array(mu_bl),np.array(cov_bl),\n",
    "                       weight_bounds=(0,1))\n",
    "ef.max_sharpe(risk_free_rate=0)\n",
    "allocation = pd.DataFrame()\n",
    "allocation[\"Assets\"] = [\"ACN\",\"AIN\",\"ANF\",\"DGICA\"]\n",
    "allocation[\"Weights\"] = pd.Series(ef.weights)\n",
    "print(allocation)"
   ]
  },
  {
   "cell_type": "code",
   "execution_count": null,
   "metadata": {},
   "outputs": [],
   "source": []
  }
 ],
 "metadata": {
  "kernelspec": {
   "display_name": "Python 3",
   "language": "python",
   "name": "python3"
  },
  "language_info": {
   "codemirror_mode": {
    "name": "ipython",
    "version": 3
   },
   "file_extension": ".py",
   "mimetype": "text/x-python",
   "name": "python",
   "nbconvert_exporter": "python",
   "pygments_lexer": "ipython3",
   "version": "3.8.10"
  }
 },
 "nbformat": 4,
 "nbformat_minor": 2
}
